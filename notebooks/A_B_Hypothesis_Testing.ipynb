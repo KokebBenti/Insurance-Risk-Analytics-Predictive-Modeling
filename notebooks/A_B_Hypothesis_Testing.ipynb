{
  "nbformat": 4,
  "nbformat_minor": 0,
  "metadata": {
    "colab": {
      "provenance": []
    },
    "kernelspec": {
      "name": "python3",
      "display_name": "Python 3"
    },
    "language_info": {
      "name": "python"
    }
  },
  "cells": [
    {
      "cell_type": "code",
      "execution_count": 1,
      "metadata": {
        "colab": {
          "base_uri": "https://localhost:8080/"
        },
        "id": "Uloonb9fh3NO",
        "outputId": "89159880-e71e-4833-8ef3-9737ee6f3a3e"
      },
      "outputs": [
        {
          "output_type": "stream",
          "name": "stdout",
          "text": [
            "Mounted at /content/drive\n"
          ]
        }
      ],
      "source": [
        "from google.colab import drive\n",
        "drive.mount('/content/drive')"
      ]
    },
    {
      "cell_type": "code",
      "source": [
        "import pandas as pd\n",
        "zip='/content/drive/My Drive/Tenx/Week 3/MachineLearningRating_v3.zip'\n",
        "df=pd.read_csv(zip,compression =\"zip\",on_bad_lines='skip',sep='|',engine='python')"
      ],
      "metadata": {
        "id": "vvNBteUpiFQf"
      },
      "execution_count": 2,
      "outputs": []
    },
    {
      "cell_type": "code",
      "source": [
        "df.info()"
      ],
      "metadata": {
        "colab": {
          "base_uri": "https://localhost:8080/"
        },
        "id": "6esbQUaPOiCa",
        "outputId": "edc37d97-e465-4502-e8f5-241b1687202d"
      },
      "execution_count": 4,
      "outputs": [
        {
          "output_type": "stream",
          "name": "stdout",
          "text": [
            "<class 'pandas.core.frame.DataFrame'>\n",
            "RangeIndex: 1000098 entries, 0 to 1000097\n",
            "Data columns (total 52 columns):\n",
            " #   Column                    Non-Null Count    Dtype  \n",
            "---  ------                    --------------    -----  \n",
            " 0   UnderwrittenCoverID       1000098 non-null  int64  \n",
            " 1   PolicyID                  1000098 non-null  int64  \n",
            " 2   TransactionMonth          1000098 non-null  object \n",
            " 3   IsVATRegistered           1000098 non-null  bool   \n",
            " 4   Citizenship               1000098 non-null  object \n",
            " 5   LegalType                 1000098 non-null  object \n",
            " 6   Title                     1000098 non-null  object \n",
            " 7   Language                  1000098 non-null  object \n",
            " 8   Bank                      854137 non-null   object \n",
            " 9   AccountType               959866 non-null   object \n",
            " 10  MaritalStatus             991839 non-null   object \n",
            " 11  Gender                    990562 non-null   object \n",
            " 12  Country                   1000098 non-null  object \n",
            " 13  Province                  1000098 non-null  object \n",
            " 14  PostalCode                1000098 non-null  int64  \n",
            " 15  MainCrestaZone            1000098 non-null  object \n",
            " 16  SubCrestaZone             1000098 non-null  object \n",
            " 17  ItemType                  1000098 non-null  object \n",
            " 18  mmcode                    999546 non-null   float64\n",
            " 19  VehicleType               999546 non-null   object \n",
            " 20  RegistrationYear          1000098 non-null  int64  \n",
            " 21  make                      999546 non-null   object \n",
            " 22  Model                     999546 non-null   object \n",
            " 23  Cylinders                 999546 non-null   float64\n",
            " 24  cubiccapacity             999546 non-null   float64\n",
            " 25  kilowatts                 999546 non-null   float64\n",
            " 26  bodytype                  999546 non-null   object \n",
            " 27  NumberOfDoors             999546 non-null   float64\n",
            " 28  VehicleIntroDate          999546 non-null   object \n",
            " 29  CustomValueEstimate       220456 non-null   float64\n",
            " 30  AlarmImmobiliser          1000098 non-null  object \n",
            " 31  TrackingDevice            1000098 non-null  object \n",
            " 32  CapitalOutstanding        1000096 non-null  object \n",
            " 33  NewVehicle                846803 non-null   object \n",
            " 34  WrittenOff                358197 non-null   object \n",
            " 35  Rebuilt                   358197 non-null   object \n",
            " 36  Converted                 358197 non-null   object \n",
            " 37  CrossBorder               698 non-null      object \n",
            " 38  NumberOfVehiclesInFleet   0 non-null        float64\n",
            " 39  SumInsured                1000098 non-null  float64\n",
            " 40  TermFrequency             1000098 non-null  object \n",
            " 41  CalculatedPremiumPerTerm  1000098 non-null  float64\n",
            " 42  ExcessSelected            1000098 non-null  object \n",
            " 43  CoverCategory             1000098 non-null  object \n",
            " 44  CoverType                 1000098 non-null  object \n",
            " 45  CoverGroup                1000098 non-null  object \n",
            " 46  Section                   1000098 non-null  object \n",
            " 47  Product                   1000098 non-null  object \n",
            " 48  StatutoryClass            1000098 non-null  object \n",
            " 49  StatutoryRiskType         1000098 non-null  object \n",
            " 50  TotalPremium              1000098 non-null  float64\n",
            " 51  TotalClaims               1000098 non-null  float64\n",
            "dtypes: bool(1), float64(11), int64(4), object(36)\n",
            "memory usage: 390.1+ MB\n"
          ]
        }
      ]
    },
    {
      "cell_type": "markdown",
      "source": [
        "## Hypothesis Testing"
      ],
      "metadata": {
        "id": "7atZFxlaQtn2"
      }
    },
    {
      "cell_type": "markdown",
      "source": [
        "**1. Differences across provinces**"
      ],
      "metadata": {
        "id": "Ox1yyczLQ5dm"
      }
    },
    {
      "cell_type": "code",
      "source": [
        "m=df[\"Province\"].unique()\n",
        "m[8]"
      ],
      "metadata": {
        "colab": {
          "base_uri": "https://localhost:8080/",
          "height": 35
        },
        "id": "x5IOnG9yRPfl",
        "outputId": "4b3943bf-cc8a-4cb4-f484-d8fc59a584d7"
      },
      "execution_count": 24,
      "outputs": [
        {
          "output_type": "execute_result",
          "data": {
            "text/plain": [
              "'Northern Cape'"
            ],
            "application/vnd.google.colaboratory.intrinsic+json": {
              "type": "string"
            }
          },
          "metadata": {},
          "execution_count": 24
        }
      ]
    },
    {
      "cell_type": "code",
      "source": [
        "import Stat_testing\n",
        "import importlib\n",
        "importlib.reload(Stat_testing)"
      ],
      "metadata": {
        "colab": {
          "base_uri": "https://localhost:8080/"
        },
        "id": "bHGQ9qtpUf9H",
        "outputId": "cf632037-6baa-4549-e1c7-b40ed3d0d2bd"
      },
      "execution_count": 79,
      "outputs": [
        {
          "output_type": "execute_result",
          "data": {
            "text/plain": [
              "<module 'Stat_testing' from '/content/Stat_testing.py'>"
            ]
          },
          "metadata": {},
          "execution_count": 79
        }
      ]
    },
    {
      "cell_type": "code",
      "source": [
        "# Separate claim amounts by province\n",
        "claims_pro=Stat_testing.separate_claims(df,m,\"Province\",\"TotalClaims\")\n",
        "claims_pro.values()"
      ],
      "metadata": {
        "colab": {
          "base_uri": "https://localhost:8080/"
        },
        "id": "ID6Z4DLPQ0V5",
        "outputId": "fa6bac98-7cc4-4374-eab7-4277237d858a"
      },
      "execution_count": 70,
      "outputs": [
        {
          "output_type": "execute_result",
          "data": {
            "text/plain": [
              "dict_values([0         0.0\n",
              "1         0.0\n",
              "2         0.0\n",
              "3         0.0\n",
              "4         0.0\n",
              "         ... \n",
              "999809    0.0\n",
              "999810    0.0\n",
              "999811    0.0\n",
              "999812    0.0\n",
              "999813    0.0\n",
              "Name: TotalClaims, Length: 393865, dtype: float64, 438       0.0\n",
              "439       0.0\n",
              "440       0.0\n",
              "441       0.0\n",
              "442       0.0\n",
              "         ... \n",
              "997937    0.0\n",
              "997938    0.0\n",
              "997939    0.0\n",
              "997945    0.0\n",
              "997946    0.0\n",
              "Name: TotalClaims, Length: 169781, dtype: float64, 729       0.0\n",
              "730       0.0\n",
              "731       0.0\n",
              "732       0.0\n",
              "733       0.0\n",
              "         ... \n",
              "995385    0.0\n",
              "995386    0.0\n",
              "995387    0.0\n",
              "995388    0.0\n",
              "995389    0.0\n",
              "Name: TotalClaims, Length: 52718, dtype: float64, 1034      0.0\n",
              "1035      0.0\n",
              "1038      0.0\n",
              "1040      0.0\n",
              "1042      0.0\n",
              "         ... \n",
              "997940    0.0\n",
              "997941    0.0\n",
              "997942    0.0\n",
              "997943    0.0\n",
              "997944    0.0\n",
              "Name: TotalClaims, Length: 30336, dtype: float64, 1281       0.0\n",
              "1282       0.0\n",
              "1283       0.0\n",
              "1284       0.0\n",
              "1285       0.0\n",
              "          ... \n",
              "1000093    0.0\n",
              "1000094    0.0\n",
              "1000095    0.0\n",
              "1000096    0.0\n",
              "1000097    0.0\n",
              "Name: TotalClaims, Length: 170796, dtype: float64, 1305      0.0\n",
              "1306      0.0\n",
              "1307      0.0\n",
              "1308      0.0\n",
              "1309      0.0\n",
              "         ... \n",
              "997449    0.0\n",
              "997450    0.0\n",
              "997677    0.0\n",
              "997678    0.0\n",
              "997679    0.0\n",
              "Name: TotalClaims, Length: 24836, dtype: float64, 2299      0.0\n",
              "2300      0.0\n",
              "2302      0.0\n",
              "2303      0.0\n",
              "2305      0.0\n",
              "         ... \n",
              "998422    0.0\n",
              "998423    0.0\n",
              "998424    0.0\n",
              "998425    0.0\n",
              "998426    0.0\n",
              "Name: TotalClaims, Length: 143287, dtype: float64, 3504      0.0\n",
              "3506      0.0\n",
              "3508      0.0\n",
              "3510      0.0\n",
              "3512      0.0\n",
              "         ... \n",
              "928533    0.0\n",
              "928534    0.0\n",
              "928535    0.0\n",
              "928536    0.0\n",
              "928537    0.0\n",
              "Name: TotalClaims, Length: 8099, dtype: float64, 24237     0.0\n",
              "24238     0.0\n",
              "24239     0.0\n",
              "24240     0.0\n",
              "24241     0.0\n",
              "         ... \n",
              "961179    0.0\n",
              "961180    0.0\n",
              "961181    0.0\n",
              "961182    0.0\n",
              "961183    0.0\n",
              "Name: TotalClaims, Length: 6380, dtype: float64])"
            ]
          },
          "metadata": {},
          "execution_count": 70
        }
      ]
    },
    {
      "cell_type": "code",
      "source": [
        "# Perform the ANOVA test\n",
        "p_value=Stat_testing.anova_test(claims_pro)\n",
        "p_value"
      ],
      "metadata": {
        "colab": {
          "base_uri": "https://localhost:8080/"
        },
        "id": "62DBKcnkXMS5",
        "outputId": "e8daa18f-e3ad-42b8-e049-30e106f6cced"
      },
      "execution_count": 71,
      "outputs": [
        {
          "output_type": "execute_result",
          "data": {
            "text/plain": [
              "np.float64(1.6782057588675906e-07)"
            ]
          },
          "metadata": {},
          "execution_count": 71
        }
      ]
    },
    {
      "cell_type": "markdown",
      "source": [
        "Hypothesis: H₀:There are no risk differences across provinces\n",
        "\n",
        "\n",
        "Result: Reject Hypothesis. There is a significant difference between provinces"
      ],
      "metadata": {
        "id": "OyhugaoCc1vv"
      }
    },
    {
      "cell_type": "code",
      "source": [
        "province_stats = df.groupby('Province')['TotalClaims'].agg(['mean', 'std', 'count']).round(2)\n",
        "print(province_stats)"
      ],
      "metadata": {
        "colab": {
          "base_uri": "https://localhost:8080/"
        },
        "id": "G4okRQsadIso",
        "outputId": "012a4a41-da08-4feb-f98d-e45a253a9cb6"
      },
      "execution_count": 40,
      "outputs": [
        {
          "output_type": "stream",
          "name": "stdout",
          "text": [
            "                mean      std   count\n",
            "Province                             \n",
            "Eastern Cape   44.71  2343.61   30336\n",
            "Free State     43.82  2074.34    8099\n",
            "Gauteng        74.63  2450.12  393865\n",
            "KwaZulu-Natal  84.23  2737.97  169781\n",
            "Limpopo        40.93  1627.59   24836\n",
            "Mpumalanga     38.79  1651.36   52718\n",
            "North West     41.32  1834.83  143287\n",
            "Northern Cape  14.03   513.86    6380\n",
            "Western Cape   60.83  2596.94  170796\n"
          ]
        }
      ]
    },
    {
      "cell_type": "markdown",
      "source": [
        "**2. Differences across Zipcodes**"
      ],
      "metadata": {
        "id": "kYTjlD68eD3k"
      }
    },
    {
      "cell_type": "code",
      "source": [
        "z=df[\"PostalCode\"].unique()\n",
        "z[8]"
      ],
      "metadata": {
        "colab": {
          "base_uri": "https://localhost:8080/"
        },
        "id": "HB0VVspLeXDT",
        "outputId": "078f4406-2453-4f7f-d82b-1a9890aff857"
      },
      "execution_count": 41,
      "outputs": [
        {
          "output_type": "execute_result",
          "data": {
            "text/plain": [
              "np.int64(2066)"
            ]
          },
          "metadata": {},
          "execution_count": 41
        }
      ]
    },
    {
      "cell_type": "code",
      "source": [
        "# Separate claim amounts by zipcodes\n",
        "claims_pro2=Stat_testing.separate_claims_numerical(df,z,\"PostalCode\",\"TotalClaims\")\n",
        "claims_pro2[\"2066_claims\"].sum()"
      ],
      "metadata": {
        "colab": {
          "base_uri": "https://localhost:8080/"
        },
        "id": "4tNwzC0zekYR",
        "outputId": "de3e36af-3c96-4b30-a9b0-e0df34d15a80"
      },
      "execution_count": 57,
      "outputs": [
        {
          "output_type": "execute_result",
          "data": {
            "text/plain": [
              "np.float64(52632.56263157898)"
            ]
          },
          "metadata": {},
          "execution_count": 57
        }
      ]
    },
    {
      "cell_type": "code",
      "source": [
        "# Perform the ANOVA test\n",
        "p_value=Stat_testing.anova_test(claims_pro2)\n",
        "p_value"
      ],
      "metadata": {
        "colab": {
          "base_uri": "https://localhost:8080/"
        },
        "id": "4fPvNk_0gEv5",
        "outputId": "6dae758d-42b8-4af2-a941-1e0e002ed53f"
      },
      "execution_count": 58,
      "outputs": [
        {
          "output_type": "execute_result",
          "data": {
            "text/plain": [
              "np.float64(0.8906511279164051)"
            ]
          },
          "metadata": {},
          "execution_count": 58
        }
      ]
    },
    {
      "cell_type": "markdown",
      "source": [
        "Hypothesis: H₀:There are no risk differences between zip codes\n",
        "\n",
        "Result: Fail to reject the null hypothesis. There is no significant difference between zip codes"
      ],
      "metadata": {
        "id": "QIS5kZEEgklZ"
      }
    },
    {
      "cell_type": "code",
      "source": [
        "zipcode_stats = df.groupby('PostalCode')['TotalClaims'].agg(['mean', 'std', 'count']).round(2)\n",
        "print(zipcode_stats)"
      ],
      "metadata": {
        "colab": {
          "base_uri": "https://localhost:8080/"
        },
        "id": "VXL6C0AghsaR",
        "outputId": "88f6f67d-065d-4a5c-ec4b-9feb169e3769"
      },
      "execution_count": 50,
      "outputs": [
        {
          "output_type": "stream",
          "name": "stdout",
          "text": [
            "              mean      std  count\n",
            "PostalCode                        \n",
            "1            57.59  2114.85   5341\n",
            "2            41.59  1156.79   1488\n",
            "4             0.00     0.00     77\n",
            "5           207.38  2561.44    400\n",
            "6            19.61   396.95    440\n",
            "...            ...      ...    ...\n",
            "9781        139.50  3274.26    643\n",
            "9830          0.00     0.00     56\n",
            "9868          0.00     0.00    100\n",
            "9869          1.58    59.46   1415\n",
            "9870          0.00     0.00    220\n",
            "\n",
            "[888 rows x 3 columns]\n"
          ]
        }
      ]
    },
    {
      "cell_type": "code",
      "source": [],
      "metadata": {
        "id": "eQMEDzxquC49"
      },
      "execution_count": null,
      "outputs": []
    },
    {
      "cell_type": "code",
      "source": [],
      "metadata": {
        "id": "tFP0q6hduChr"
      },
      "execution_count": null,
      "outputs": []
    },
    {
      "cell_type": "code",
      "source": [
        "# Separate claim amounts by zipcodes\n",
        "claims_pro=Stat_testing.separate_claims(df,m,\"Province\",\"Margin\")"
      ],
      "metadata": {
        "id": "Oj7Mc_74uDdh"
      },
      "execution_count": 83,
      "outputs": []
    },
    {
      "cell_type": "code",
      "source": [
        "# Perform the ANOVA test\n",
        "p_value=Stat_testing.anova_test(claims_pro)\n",
        "p_value"
      ],
      "metadata": {
        "colab": {
          "base_uri": "https://localhost:8080/"
        },
        "outputId": "8eb38cc7-2284-4f24-b75c-6f579ec65f4b",
        "id": "fbBibJIDuDdj"
      },
      "execution_count": 84,
      "outputs": [
        {
          "output_type": "execute_result",
          "data": {
            "text/plain": [
              "np.float64(0.0011450081247588997)"
            ]
          },
          "metadata": {},
          "execution_count": 84
        }
      ]
    },
    {
      "cell_type": "code",
      "source": [
        "province_stats = df.groupby('Province')['Margin'].agg(['mean', 'std', 'count']).round(2)\n",
        "print(province_stats)"
      ],
      "metadata": {
        "colab": {
          "base_uri": "https://localhost:8080/"
        },
        "id": "SHUmuzv4ueud",
        "outputId": "fa262974-8a3a-46dc-9419-2c3c067f3cb4"
      },
      "execution_count": 85,
      "outputs": [
        {
          "output_type": "stream",
          "name": "stdout",
          "text": [
            "                mean      std   count\n",
            "Province                             \n",
            "Eastern Cape   25.83  2339.78   30336\n",
            "Free State     20.55  2071.41    8099\n",
            "Gauteng       -13.56  2440.65  393865\n",
            "KwaZulu-Natal  -6.43  2724.95  169781\n",
            "Limpopo        20.97  1626.02   24836\n",
            "Mpumalanga     15.02  1646.88   52718\n",
            "North West     10.96  1830.46  143287\n",
            "Northern Cape  35.59   519.37    6380\n",
            "Western Cape   -3.41  2544.29  170796\n"
          ]
        }
      ]
    },
    {
      "cell_type": "markdown",
      "source": [
        "We can see that the margins are different across provinces. Provinces like Northern Cape and Eastern Cape have a higher profit margin while provinces like Gauteng and KwaZulu-Natal have a higher loss margins."
      ],
      "metadata": {
        "id": "dm6EzJ-nusgO"
      }
    },
    {
      "cell_type": "markdown",
      "source": [
        "**3. Margin difference between zip codes**\n",
        "\n"
      ],
      "metadata": {
        "id": "Ft4LEAkHhGDV"
      }
    },
    {
      "cell_type": "code",
      "source": [
        "df[\"Margin\"]=df[\"TotalPremium\"]-df[\"TotalClaims\"]"
      ],
      "metadata": {
        "id": "HVWritFpg_o0"
      },
      "execution_count": 51,
      "outputs": []
    },
    {
      "cell_type": "code",
      "source": [
        "# Separate claim amounts by zipcodes\n",
        "claims_pro3=Stat_testing.separate_claims_numerical(df,z,\"PostalCode\",\"Margin\")\n",
        "claims_pro3[\"2066_claims\"].sum()"
      ],
      "metadata": {
        "colab": {
          "base_uri": "https://localhost:8080/"
        },
        "id": "9cbP18EOhNh0",
        "outputId": "b74282d7-3c89-4578-ab36-673e85ad1661"
      },
      "execution_count": 59,
      "outputs": [
        {
          "output_type": "execute_result",
          "data": {
            "text/plain": [
              "np.float64(-14017.593013158039)"
            ]
          },
          "metadata": {},
          "execution_count": 59
        }
      ]
    },
    {
      "cell_type": "code",
      "source": [
        "# Perform the ANOVA test\n",
        "p_value=Stat_testing.anova_test(claims_pro3)\n",
        "p_value"
      ],
      "metadata": {
        "colab": {
          "base_uri": "https://localhost:8080/"
        },
        "id": "Ke6EMy1mj1t-",
        "outputId": "2f18136e-e6bf-478f-a263-6475d34da99c"
      },
      "execution_count": 60,
      "outputs": [
        {
          "output_type": "execute_result",
          "data": {
            "text/plain": [
              "np.float64(0.9976859758015036)"
            ]
          },
          "metadata": {},
          "execution_count": 60
        }
      ]
    },
    {
      "cell_type": "markdown",
      "source": [
        "Hypothesis: There are no significant margin (profit) difference between zip codes\n",
        "\n",
        "Result: Fail to reject the null hypothesis. There is no significant difference in margin between zip codes"
      ],
      "metadata": {
        "id": "2DAkqE4skOUx"
      }
    },
    {
      "cell_type": "code",
      "source": [
        "zipcode_stats = df.groupby('PostalCode')['Margin'].agg(['mean', 'std', 'count']).round(2)\n",
        "print(zipcode_stats)"
      ],
      "metadata": {
        "colab": {
          "base_uri": "https://localhost:8080/"
        },
        "id": "tjKVKpIKkCxM",
        "outputId": "f1a51f94-cc49-41d1-d888-63cae2bf1d5c"
      },
      "execution_count": 62,
      "outputs": [
        {
          "output_type": "stream",
          "name": "stdout",
          "text": [
            "              mean      std  count\n",
            "PostalCode                        \n",
            "1            -6.47  2107.15   5341\n",
            "2            -0.69  1146.55   1488\n",
            "4           113.95   238.29     77\n",
            "5          -145.73  2537.74    400\n",
            "6            30.98   392.27    440\n",
            "...            ...      ...    ...\n",
            "9781        -84.95  3278.77    643\n",
            "9830        131.76   244.01     56\n",
            "9868        116.04   179.13    100\n",
            "9869         43.19   132.31   1415\n",
            "9870         80.47   129.92    220\n",
            "\n",
            "[888 rows x 3 columns]\n"
          ]
        }
      ]
    },
    {
      "cell_type": "markdown",
      "source": [
        "**4. Difference between Genders**"
      ],
      "metadata": {
        "id": "TzkB_07DkY45"
      }
    },
    {
      "cell_type": "code",
      "source": [
        "g=df[\"Gender\"].unique()\n",
        "g[2]"
      ],
      "metadata": {
        "colab": {
          "base_uri": "https://localhost:8080/",
          "height": 35
        },
        "outputId": "5d20fbb5-dbe1-47a7-a5cf-50d7e42668ed",
        "id": "LIj9gVZjlGuB"
      },
      "execution_count": 66,
      "outputs": [
        {
          "output_type": "execute_result",
          "data": {
            "text/plain": [
              "'Female'"
            ],
            "application/vnd.google.colaboratory.intrinsic+json": {
              "type": "string"
            }
          },
          "metadata": {},
          "execution_count": 66
        }
      ]
    },
    {
      "cell_type": "code",
      "source": [
        "# Separate claim amounts by zipcodes\n",
        "claims_pro4=Stat_testing.separate_claims(df,g,\"Gender\",\"TotalClaims\")\n",
        "claims_pro4[\"Male_claims\"].sum()"
      ],
      "metadata": {
        "colab": {
          "base_uri": "https://localhost:8080/"
        },
        "outputId": "59d50f8c-8049-4d1c-e964-cd73bce5c8ed",
        "id": "bvgJVWg-lGuD"
      },
      "execution_count": 74,
      "outputs": [
        {
          "output_type": "execute_result",
          "data": {
            "text/plain": [
              "np.float64(1396703.915614036)"
            ]
          },
          "metadata": {},
          "execution_count": 74
        }
      ]
    },
    {
      "cell_type": "code",
      "source": [
        "# Perform the t-test\n",
        "data={}\n",
        "data[\"Male_claims\"]=claims_pro4[\"Male_claims\"]\n",
        "data[\"Female_claims\"]=claims_pro4[\"Female_claims\"]\n",
        "t_value=Stat_testing.t_test(data)\n",
        "t_value"
      ],
      "metadata": {
        "colab": {
          "base_uri": "https://localhost:8080/"
        },
        "outputId": "63082347-721f-4fc6-ea5d-1d9feb48a70c",
        "id": "EC9YmKajlGuE"
      },
      "execution_count": 80,
      "outputs": [
        {
          "output_type": "execute_result",
          "data": {
            "text/plain": [
              "np.float64(0.8041073961270343)"
            ]
          },
          "metadata": {},
          "execution_count": 80
        }
      ]
    },
    {
      "cell_type": "markdown",
      "source": [
        "Hypothesis: There are not significant risk difference between Women and Men.\n",
        "\n",
        "Result: Fail to reject the null hypothesis. There is no significant difference between men and women."
      ],
      "metadata": {
        "id": "TC3KRjwopmJz"
      }
    },
    {
      "cell_type": "code",
      "source": [],
      "metadata": {
        "id": "hJpUGvgMpkrL"
      },
      "execution_count": null,
      "outputs": []
    }
  ]
}